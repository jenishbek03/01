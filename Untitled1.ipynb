{
  "nbformat": 4,
  "nbformat_minor": 0,
  "metadata": {
    "colab": {
      "provenance": [],
      "authorship_tag": "ABX9TyPcKbPGzggDPh0w4E9tRFKZ",
      "include_colab_link": true
    },
    "kernelspec": {
      "name": "python3",
      "display_name": "Python 3"
    },
    "language_info": {
      "name": "python"
    }
  },
  "cells": [
    {
      "cell_type": "markdown",
      "metadata": {
        "id": "view-in-github",
        "colab_type": "text"
      },
      "source": [
        "<a href=\"https://colab.research.google.com/github/jenishbek03/01/blob/main/Untitled1.ipynb\" target=\"_parent\"><img src=\"https://colab.research.google.com/assets/colab-badge.svg\" alt=\"Open In Colab\"/></a>"
      ]
    },
    {
      "cell_type": "markdown",
      "source": [],
      "metadata": {
        "id": "H4IZM-k28YFr"
      }
    },
    {
      "cell_type": "markdown",
      "source": [
        "# Китепканаларды орнотуу"
      ],
      "metadata": {
        "id": "lC1GdYP88bDc"
      }
    },
    {
      "cell_type": "code",
      "source": [
        "!pip install tensorflow streamlit pillow matplotlib pyngrok --quiet"
      ],
      "metadata": {
        "id": "W2bvetD_8Ylr"
      },
      "execution_count": null,
      "outputs": []
    },
    {
      "cell_type": "code",
      "source": [
        "!pip install pyngrok --upgrade\n"
      ],
      "metadata": {
        "colab": {
          "base_uri": "https://localhost:8080/"
        },
        "id": "DDlsuKeCFOlO",
        "outputId": "5b3484a5-7a9c-456f-f0c4-4443a4fca6dc"
      },
      "execution_count": null,
      "outputs": [
        {
          "output_type": "stream",
          "name": "stdout",
          "text": [
            "Requirement already satisfied: pyngrok in /usr/local/lib/python3.10/dist-packages (7.2.2)\n",
            "Requirement already satisfied: PyYAML>=5.1 in /usr/local/lib/python3.10/dist-packages (from pyngrok) (6.0.2)\n"
          ]
        }
      ]
    },
    {
      "cell_type": "code",
      "source": [
        "from google.colab import drive\n",
        "import os"
      ],
      "metadata": {
        "id": "RqVFsa0j8h9q"
      },
      "execution_count": null,
      "outputs": []
    },
    {
      "cell_type": "code",
      "source": [
        "drive.mount('/content/drive')\n"
      ],
      "metadata": {
        "colab": {
          "base_uri": "https://localhost:8080/"
        },
        "id": "nI-EhbDE8pKi",
        "outputId": "9e33388c-0072-489d-f57f-2f32f6864ea1"
      },
      "execution_count": null,
      "outputs": [
        {
          "output_type": "stream",
          "name": "stdout",
          "text": [
            "Mounted at /content/drive\n"
          ]
        }
      ]
    },
    {
      "cell_type": "code",
      "source": [
        "folder_path = '/content/drive/My Drive/cifar10_project'\n",
        "if not os.path.exists(folder_path):\n",
        "    os.makedirs(folder_path)\n",
        "    print(f\"Папка түзүлдү: {folder_path}\")\n",
        "else:\n",
        "    print(f\"Папка буга чейин бар: {folder_path}\")"
      ],
      "metadata": {
        "colab": {
          "base_uri": "https://localhost:8080/"
        },
        "id": "cPiTc7LRBeXb",
        "outputId": "c53cfa81-7bb2-41fb-90cb-8bb88ce7a189"
      },
      "execution_count": null,
      "outputs": [
        {
          "output_type": "stream",
          "name": "stdout",
          "text": [
            "Папка буга чейин бар: /content/drive/My Drive/cifar10_project\n"
          ]
        }
      ]
    },
    {
      "cell_type": "code",
      "source": [
        "from tensorflow.keras.datasets import cifar10\n",
        "from tensorflow.keras.models import Sequential\n",
        "from tensorflow.keras.layers import Flatten, Dense\n",
        "from tensorflow.keras.utils import to_categorical\n",
        "\n",
        "def create_model():\n",
        "    # CIFAR-10 маалыматтарын жүктөө жана нормалдаштыруу\n",
        "    (x_train, y_train), (x_val, y_val) = cifar10.load_data()\n",
        "    x_train = x_train / 255.0\n",
        "    x_val = x_val / 255.0\n",
        "\n",
        "    # Класстарды one-hot encoding\n",
        "    y_train = to_categorical(y_train, 10)\n",
        "    y_val = to_categorical(y_val, 10)\n",
        "\n",
        "    # Модель архитектурасы\n",
        "    model = Sequential([\n",
        "        Flatten(input_shape=(32, 32, 3)),\n",
        "        Dense(1000, activation='relu'),\n",
        "        Dense(10, activation='softmax')\n",
        "    ])\n",
        "\n",
        "    # Компиляция\n",
        "    model.compile(loss='categorical_crossentropy', optimizer='adam', metrics=['accuracy'])\n",
        "\n",
        "    # Окутуу\n",
        "    model.fit(x_train, y_train, batch_size=64, epochs=10, validation_data=(x_val, y_val))\n",
        "\n",
        "    # Модельди сактоо\n",
        "    model_path = '/content/drive/My Drive/cifar10_project/cifar_model.keras'\n",
        "    model.save(model_path)\n",
        "    print(f\"Модель сакталды: {model_path}\")\n",
        "\n",
        "# Бир жолу гана иштетүү\n",
        "create_model()\n"
      ],
      "metadata": {
        "colab": {
          "base_uri": "https://localhost:8080/"
        },
        "id": "MiM4HnRKBlAL",
        "outputId": "d63d097d-2d7a-4e8d-9f6f-c04e49761f23"
      },
      "execution_count": null,
      "outputs": [
        {
          "output_type": "stream",
          "name": "stdout",
          "text": [
            "Downloading data from https://www.cs.toronto.edu/~kriz/cifar-10-python.tar.gz\n",
            "\u001b[1m170498071/170498071\u001b[0m \u001b[32m━━━━━━━━━━━━━━━━━━━━\u001b[0m\u001b[37m\u001b[0m \u001b[1m2s\u001b[0m 0us/step\n"
          ]
        },
        {
          "output_type": "stream",
          "name": "stderr",
          "text": [
            "/usr/local/lib/python3.10/dist-packages/keras/src/layers/reshaping/flatten.py:37: UserWarning: Do not pass an `input_shape`/`input_dim` argument to a layer. When using Sequential models, prefer using an `Input(shape)` object as the first layer in the model instead.\n",
            "  super().__init__(**kwargs)\n"
          ]
        },
        {
          "output_type": "stream",
          "name": "stdout",
          "text": [
            "Epoch 1/10\n",
            "\u001b[1m782/782\u001b[0m \u001b[32m━━━━━━━━━━━━━━━━━━━━\u001b[0m\u001b[37m\u001b[0m \u001b[1m44s\u001b[0m 55ms/step - accuracy: 0.2682 - loss: 2.3322 - val_accuracy: 0.3777 - val_loss: 1.7476\n",
            "Epoch 2/10\n",
            "\u001b[1m782/782\u001b[0m \u001b[32m━━━━━━━━━━━━━━━━━━━━\u001b[0m\u001b[37m\u001b[0m \u001b[1m44s\u001b[0m 56ms/step - accuracy: 0.3868 - loss: 1.7169 - val_accuracy: 0.4242 - val_loss: 1.6146\n",
            "Epoch 3/10\n",
            "\u001b[1m782/782\u001b[0m \u001b[32m━━━━━━━━━━━━━━━━━━━━\u001b[0m\u001b[37m\u001b[0m \u001b[1m42s\u001b[0m 54ms/step - accuracy: 0.4233 - loss: 1.6294 - val_accuracy: 0.4433 - val_loss: 1.5812\n",
            "Epoch 4/10\n",
            "\u001b[1m782/782\u001b[0m \u001b[32m━━━━━━━━━━━━━━━━━━━━\u001b[0m\u001b[37m\u001b[0m \u001b[1m82s\u001b[0m 54ms/step - accuracy: 0.4430 - loss: 1.5794 - val_accuracy: 0.4324 - val_loss: 1.5805\n",
            "Epoch 5/10\n",
            "\u001b[1m782/782\u001b[0m \u001b[32m━━━━━━━━━━━━━━━━━━━━\u001b[0m\u001b[37m\u001b[0m \u001b[1m82s\u001b[0m 53ms/step - accuracy: 0.4564 - loss: 1.5392 - val_accuracy: 0.4668 - val_loss: 1.5069\n",
            "Epoch 6/10\n",
            "\u001b[1m782/782\u001b[0m \u001b[32m━━━━━━━━━━━━━━━━━━━━\u001b[0m\u001b[37m\u001b[0m \u001b[1m84s\u001b[0m 56ms/step - accuracy: 0.4634 - loss: 1.5102 - val_accuracy: 0.4391 - val_loss: 1.5417\n",
            "Epoch 7/10\n",
            "\u001b[1m782/782\u001b[0m \u001b[32m━━━━━━━━━━━━━━━━━━━━\u001b[0m\u001b[37m\u001b[0m \u001b[1m78s\u001b[0m 51ms/step - accuracy: 0.4682 - loss: 1.4972 - val_accuracy: 0.4474 - val_loss: 1.5663\n",
            "Epoch 8/10\n",
            "\u001b[1m782/782\u001b[0m \u001b[32m━━━━━━━━━━━━━━━━━━━━\u001b[0m\u001b[37m\u001b[0m \u001b[1m42s\u001b[0m 52ms/step - accuracy: 0.4803 - loss: 1.4716 - val_accuracy: 0.4584 - val_loss: 1.5225\n",
            "Epoch 9/10\n",
            "\u001b[1m782/782\u001b[0m \u001b[32m━━━━━━━━━━━━━━━━━━━━\u001b[0m\u001b[37m\u001b[0m \u001b[1m42s\u001b[0m 53ms/step - accuracy: 0.4803 - loss: 1.4583 - val_accuracy: 0.4694 - val_loss: 1.5071\n",
            "Epoch 10/10\n",
            "\u001b[1m782/782\u001b[0m \u001b[32m━━━━━━━━━━━━━━━━━━━━\u001b[0m\u001b[37m\u001b[0m \u001b[1m83s\u001b[0m 55ms/step - accuracy: 0.4905 - loss: 1.4335 - val_accuracy: 0.4697 - val_loss: 1.5178\n",
            "Модель сакталды: /content/drive/My Drive/cifar10_project/cifar_model.keras\n"
          ]
        }
      ]
    },
    {
      "cell_type": "code",
      "source": [
        "%%writefile app.py\n",
        "import numpy as np\n",
        "import matplotlib.pyplot as plt\n",
        "import streamlit as st\n",
        "from PIL import Image\n",
        "import tensorflow as tf\n",
        "\n",
        "# Модель файлынын жолун көрсөтүү\n",
        "MODEL_PATH = '/content/drive/My Drive/cifar10_project/cifar_model.keras'\n",
        "\n",
        "def main():\n",
        "    st.title('CIFAR-10 Сүрөт Классификациясы')\n",
        "    st.write('Сүрөт жүктөп, анын кайсы класска кирерин табыңыз.')\n",
        "\n",
        "    # Сүрөт жүктөө\n",
        "    file = st.file_uploader(\"Сүрөт жүктөңүз (.jpg же .png)\", type=['jpg', 'png'])\n",
        "    if file is None:\n",
        "        st.text(\"Сураныч, .jpg же .png форматтагы файл жүктөңүз.\")\n",
        "        return\n",
        "\n",
        "    # Сүрөттү иштетүү\n",
        "    image = Image.open(file)\n",
        "    st.image(image, caption='Жүктөлгөн сүрөт', use_column_width=True)\n",
        "    resized_image = image.resize((32, 32))\n",
        "    img_array = np.array(resized_image) / 255.0\n",
        "    img_array = img_array.reshape((1, 32, 32, 3))\n",
        "\n",
        "    # Модель жүктөө\n",
        "    model = tf.keras.models.load_model(MODEL_PATH)\n",
        "\n",
        "    # Болжолдорду алуу\n",
        "    predictions = model.predict(img_array)\n",
        "    classes = ['Самолёт', 'Автомобиль', 'Птица', 'Кошка', 'Олень',\n",
        "               'Собака', 'Лягушка', 'Лошадь', 'Корабль', 'Грузовик']\n",
        "\n",
        "    # Натыйжаларды көрсөтүү\n",
        "    fig, ax = plt.subplots()\n",
        "    y_pos = np.arange(len(classes))\n",
        "    ax.barh(y_pos, predictions[0], align='center')\n",
        "    ax.set_yticks(y_pos)\n",
        "    ax.set_yticklabels(classes)\n",
        "    ax.invert_yaxis()\n",
        "    ax.set_xlabel('Вероятность')\n",
        "    ax.set_title('Классификациянын натыйжасы')\n",
        "    st.pyplot(fig)\n",
        "\n",
        "if __name__ == \"__main__\":\n",
        "    main()\n"
      ],
      "metadata": {
        "colab": {
          "base_uri": "https://localhost:8080/"
        },
        "id": "XhEM0YB5EsTb",
        "outputId": "2c0e3f81-c9c1-4f6a-9340-954b49b26e79"
      },
      "execution_count": null,
      "outputs": [
        {
          "output_type": "stream",
          "name": "stdout",
          "text": [
            "Writing app.py\n"
          ]
        }
      ]
    },
    {
      "cell_type": "code",
      "source": [
        "from pyngrok import ngrok\n",
        "\n",
        "# Ngrokтун токенди орнотуу\n",
        "ngrok.set_auth_token(\"2qNSceaxgyVh6Y6VqV9C5KZge1q_31daLsq39b81kGQLp2Txc\")  # Сиздин токен\n",
        "\n",
        "# Streamlit серверин иштетүү\n",
        "!streamlit run app.py &>/content/logs.txt &\n",
        "\n",
        "# Ngrok туннелин ачуу\n",
        "try:\n",
        "    public_url = ngrok.connect(\"http://localhost:8501\")  # Туннель үчүн localhost URL колдонуу\n",
        "    print(f\"Колдонмоңуз ушул URL аркылуу жеткиликтүү: {public_url}\")\n",
        "except Exception as e:\n",
        "    print(f\"Ngrokту иштетүүдө ката кетти: {e}\")\n"
      ],
      "metadata": {
        "colab": {
          "base_uri": "https://localhost:8080/"
        },
        "id": "bICdJXswExbi",
        "outputId": "7345e654-3528-4946-c0d0-1586d293b0ab"
      },
      "execution_count": null,
      "outputs": [
        {
          "output_type": "stream",
          "name": "stdout",
          "text": [
            "Колдонмоңуз ушул URL аркылуу жеткиликтүү: NgrokTunnel: \"https://988d-35-193-78-33.ngrok-free.app\" -> \"http://localhost:8501\"\n"
          ]
        }
      ]
    }
  ]
}